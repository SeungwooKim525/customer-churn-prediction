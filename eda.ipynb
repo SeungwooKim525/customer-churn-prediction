{
 "cells": [
  {
   "cell_type": "code",
   "execution_count": 15,
   "id": "0c564ae0-c8e0-44da-9f4d-f14bb0dbfb0e",
   "metadata": {},
   "outputs": [
    {
     "name": "stdout",
     "output_type": "stream",
     "text": [
      "<class 'pandas.core.frame.DataFrame'>\n",
      "RangeIndex: 7043 entries, 0 to 7042\n",
      "Data columns (total 21 columns):\n",
      " #   Column            Non-Null Count  Dtype  \n",
      "---  ------            --------------  -----  \n",
      " 0   customerID        7043 non-null   object \n",
      " 1   gender            7043 non-null   object \n",
      " 2   SeniorCitizen     7043 non-null   int64  \n",
      " 3   Partner           7043 non-null   object \n",
      " 4   Dependents        7043 non-null   object \n",
      " 5   tenure            7043 non-null   int64  \n",
      " 6   PhoneService      7043 non-null   object \n",
      " 7   MultipleLines     7043 non-null   object \n",
      " 8   InternetService   7043 non-null   object \n",
      " 9   OnlineSecurity    7043 non-null   object \n",
      " 10  OnlineBackup      7043 non-null   object \n",
      " 11  DeviceProtection  7043 non-null   object \n",
      " 12  TechSupport       7043 non-null   object \n",
      " 13  StreamingTV       7043 non-null   object \n",
      " 14  StreamingMovies   7043 non-null   object \n",
      " 15  Contract          7043 non-null   object \n",
      " 16  PaperlessBilling  7043 non-null   object \n",
      " 17  PaymentMethod     7043 non-null   object \n",
      " 18  MonthlyCharges    7043 non-null   float64\n",
      " 19  TotalCharges      7043 non-null   object \n",
      " 20  Churn             7043 non-null   object \n",
      "dtypes: float64(1), int64(2), object(18)\n",
      "memory usage: 1.1+ MB\n"
     ]
    },
    {
     "data": {
      "text/plain": [
       "['data/y_test.pkl']"
      ]
     },
     "execution_count": 15,
     "metadata": {},
     "output_type": "execute_result"
    }
   ],
   "source": [
    "import pandas as pd\n",
    "df = pd.read_csv(\"data/WA_Fn-UseC_-Telco-Customer-Churn.csv\") # 데이터 불러오기\n",
    "df.head() # 첫 5행 확인\n",
    "df.info() # 데이터 정보 확인\n",
    "df.describe() # 수치형(numerical) 열들에 대한 정보\n",
    "df.isnull().sum() # 결측치 확인\n",
    "df['Churn'].value_counts(normalize=True) # 분류 문제의 정답 \n",
    "\n",
    "# 공백 문자열이 있어서 숫자로 못 바뀜\n",
    "df['TotalCharges'].dtype\n",
    "df['TotalCharges'].value_counts()\n",
    "df[pd.to_numeric(df['TotalCharges'], errors='coerce').isnull()]\n",
    "\n",
    "# 결측치로 처리\n",
    "df['TotalCharges'] = pd.to_numeric(df['TotalCharges'], errors='coerce')\n",
    "df = df.dropna(subset=['TotalCharges'])\n",
    "\n",
    "# 타깃 변수 분리\n",
    "y = df['Churn'].map({'Yes': 1, 'No': 0})\n",
    "\n",
    "# ID, target 제거\n",
    "X = df.drop(columns=['customerID', 'Churn'])\n",
    "\n",
    "# 범주형/수치형 구분\n",
    "cat_cols = X.select_dtypes(include='object').columns\n",
    "num_cols = X.select_dtypes(include='number').columns\n",
    "\n",
    "# OneHot 인코딩 적용\n",
    "X = pd.get_dummies(X, drop_first=True)\n",
    "\n",
    "# 학습용 데이터 분리\n",
    "from sklearn.model_selection import train_test_split\n",
    "X_train, X_test, y_train, y_test = train_test_split(X, y, test_size=0.2, stratify=y, random_state=42)\n",
    "\n",
    "\n",
    "\n",
    "# 전처리된 데이터 저장\n",
    "import joblib\n",
    "\n",
    "joblib.dump(X_train, 'data/X_train.pkl')\n",
    "joblib.dump(X_test, 'data/X_test.pkl')\n",
    "joblib.dump(y_train, 'data/y_train.pkl')\n",
    "joblib.dump(y_test, 'data/y_test.pkl')"
   ]
  }
 ],
 "metadata": {
  "kernelspec": {
   "display_name": "Python 3 (ipykernel)",
   "language": "python",
   "name": "python3"
  },
  "language_info": {
   "codemirror_mode": {
    "name": "ipython",
    "version": 3
   },
   "file_extension": ".py",
   "mimetype": "text/x-python",
   "name": "python",
   "nbconvert_exporter": "python",
   "pygments_lexer": "ipython3",
   "version": "3.11.7"
  }
 },
 "nbformat": 4,
 "nbformat_minor": 5
}
