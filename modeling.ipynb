{
 "cells": [
  {
   "cell_type": "code",
   "execution_count": 8,
   "id": "2bda6ba5-0712-439f-8f7b-f4396ed0675f",
   "metadata": {},
   "outputs": [
    {
     "name": "stdout",
     "output_type": "stream",
     "text": [
      "🔍 Logistic Regression Accuracy: 0.798862828713575\n",
      "Confusion Matrix:\n",
      " [[912 121]\n",
      " [162 212]]\n",
      "Classification Report:\n",
      "               precision    recall  f1-score   support\n",
      "\n",
      "           0       0.85      0.88      0.87      1033\n",
      "           1       0.64      0.57      0.60       374\n",
      "\n",
      "    accuracy                           0.80      1407\n",
      "   macro avg       0.74      0.72      0.73      1407\n",
      "weighted avg       0.79      0.80      0.79      1407\n",
      "\n",
      "🔍 KNN Accuracy: 0.746268656716418\n",
      "Confusion Matrix:\n",
      " [[890 143]\n",
      " [214 160]]\n",
      "🔍 Ridge Accuracy: 0.7938877043354655\n",
      "Logistic Regression: 0.7989\n",
      "KNN: 0.7463\n",
      "Ridge: 0.7939\n"
     ]
    }
   ],
   "source": [
    "import joblib\n",
    "from sklearn.linear_model import LogisticRegression\n",
    "from sklearn.metrics import accuracy_score, confusion_matrix, classification_report\n",
    "\n",
    "# 전처리 데이터 불러오기\n",
    "\n",
    "X_train = joblib.load('data/X_train.pkl')\n",
    "X_test = joblib.load('data/X_test.pkl')\n",
    "y_train = joblib.load('data/y_train.pkl')\n",
    "y_test = joblib.load('data/y_test.pkl')\n",
    "\n",
    "# 모델 정의 및 학습\n",
    "lr = LogisticRegression(max_iter=1000)\n",
    "lr.fit(X_train, y_train)\n",
    "\n",
    "# 예측\n",
    "y_pred = lr.predict(X_test)\n",
    "\n",
    "# LogisticRegression 평가\n",
    "print(\"🔍 Logistic Regression Accuracy:\", accuracy_score(y_test, y_pred))\n",
    "print(\"Confusion Matrix:\\n\", confusion_matrix(y_test, y_pred))\n",
    "print(\"Classification Report:\\n\", classification_report(y_test, y_pred))\n",
    "\n",
    "# K-Nearest Neighbor 분류기로 비교\n",
    "from sklearn.neighbors import KNeighborsClassifier\n",
    "\n",
    "knn = KNeighborsClassifier(n_neighbors=5)\n",
    "knn.fit(X_train, y_train)\n",
    "y_pred_knn = knn.predict(X_test)\n",
    "\n",
    "print(\"🔍 KNN Accuracy:\", accuracy_score(y_test, y_pred_knn))\n",
    "print(\"Confusion Matrix:\\n\", confusion_matrix(y_test, y_pred_knn))\n",
    "\n",
    "# Ridge 분류기\n",
    "from sklearn.linear_model import RidgeClassifier\n",
    "\n",
    "ridge = RidgeClassifier()\n",
    "ridge.fit(X_train, y_train)\n",
    "y_pred_ridge = ridge.predict(X_test)\n",
    "\n",
    "print(\"🔍 Ridge Accuracy:\", accuracy_score(y_test, y_pred_ridge))\n",
    "\n",
    "# 결과 비교용\n",
    "results = {\n",
    "    \"Logistic Regression\": accuracy_score(y_test, y_pred),\n",
    "    \"KNN\": accuracy_score(y_test, y_pred_knn),\n",
    "    \"Ridge\": accuracy_score(y_test, y_pred_ridge)\n",
    "}\n",
    "\n",
    "for model, acc in results.items():\n",
    "    print(f\"{model}: {acc:.4f}\")"
   ]
  }
 ],
 "metadata": {
  "kernelspec": {
   "display_name": "Python 3 (ipykernel)",
   "language": "python",
   "name": "python3"
  },
  "language_info": {
   "codemirror_mode": {
    "name": "ipython",
    "version": 3
   },
   "file_extension": ".py",
   "mimetype": "text/x-python",
   "name": "python",
   "nbconvert_exporter": "python",
   "pygments_lexer": "ipython3",
   "version": "3.11.7"
  }
 },
 "nbformat": 4,
 "nbformat_minor": 5
}
